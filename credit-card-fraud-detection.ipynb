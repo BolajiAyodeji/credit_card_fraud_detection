{
 "cells": [
  {
   "cell_type": "markdown",
   "id": "39938614",
   "metadata": {
    "papermill": {
     "duration": 0.03055,
     "end_time": "2021-09-13T19:00:41.995384",
     "exception": false,
     "start_time": "2021-09-13T19:00:41.964834",
     "status": "completed"
    },
    "tags": []
   },
   "source": [
    "## Import the required packages"
   ]
  },
  {
   "cell_type": "code",
   "execution_count": 1,
   "id": "39140479",
   "metadata": {
    "_cell_guid": "b1076dfc-b9ad-4769-8c92-a6c4dae69d19",
    "_uuid": "8f2839f25d086af736a60e9eeb907d3b93b6e0e5",
    "execution": {
     "iopub.execute_input": "2021-09-13T19:00:42.066190Z",
     "iopub.status.busy": "2021-09-13T19:00:42.065631Z",
     "iopub.status.idle": "2021-09-13T19:00:43.470350Z",
     "shell.execute_reply": "2021-09-13T19:00:43.469676Z",
     "shell.execute_reply.started": "2021-09-13T04:57:57.18372Z"
    },
    "papermill": {
     "duration": 1.44454,
     "end_time": "2021-09-13T19:00:43.470507",
     "exception": false,
     "start_time": "2021-09-13T19:00:42.025967",
     "status": "completed"
    },
    "tags": []
   },
   "outputs": [],
   "source": [
    "import pandas as pd\n",
    "import numpy as np\n",
    "import matplotlib.pyplot as plt\n",
    "from termcolor import colored as cl\n",
    "import itertools\n",
    "\n",
    "from sklearn.preprocessing import StandardScaler\n",
    "from sklearn.model_selection import train_test_split\n",
    "from sklearn.tree import DecisionTreeClassifier\n",
    "from sklearn.neighbors import KNeighborsClassifier\n",
    "from sklearn.linear_model import LogisticRegression\n",
    "from sklearn.svm import SVC\n",
    "from sklearn.ensemble import RandomForestClassifier\n",
    "from xgboost import XGBClassifier\n",
    "\n",
    "from sklearn.metrics import confusion_matrix\n",
    "from sklearn.metrics import accuracy_score\n",
    "from sklearn.metrics import f1_score"
   ]
  },
  {
   "cell_type": "markdown",
   "id": "51f2c1ca",
   "metadata": {
    "papermill": {
     "duration": 0.029281,
     "end_time": "2021-09-13T19:00:43.529727",
     "exception": false,
     "start_time": "2021-09-13T19:00:43.500446",
     "status": "completed"
    },
    "tags": []
   },
   "source": [
    "## Import dataset"
   ]
  },
  {
   "cell_type": "code",
   "execution_count": 2,
   "id": "61305bfd",
   "metadata": {
    "execution": {
     "iopub.execute_input": "2021-09-13T19:00:43.593690Z",
     "iopub.status.busy": "2021-09-13T19:00:43.593166Z",
     "iopub.status.idle": "2021-09-13T19:00:47.675303Z",
     "shell.execute_reply": "2021-09-13T19:00:47.675901Z",
     "shell.execute_reply.started": "2021-09-13T04:57:58.489961Z"
    },
    "papermill": {
     "duration": 4.11699,
     "end_time": "2021-09-13T19:00:47.676065",
     "exception": false,
     "start_time": "2021-09-13T19:00:43.559075",
     "status": "completed"
    },
    "tags": []
   },
   "outputs": [
    {
     "name": "stdout",
     "output_type": "stream",
     "text": [
      "         V1        V2        V3        V4        V5        V6        V7  \\\n",
      "0 -1.359807 -0.072781  2.536347  1.378155 -0.338321  0.462388  0.239599   \n",
      "1  1.191857  0.266151  0.166480  0.448154  0.060018 -0.082361 -0.078803   \n",
      "2 -1.358354 -1.340163  1.773209  0.379780 -0.503198  1.800499  0.791461   \n",
      "3 -0.966272 -0.185226  1.792993 -0.863291 -0.010309  1.247203  0.237609   \n",
      "4 -1.158233  0.877737  1.548718  0.403034 -0.407193  0.095921  0.592941   \n",
      "\n",
      "         V8        V9       V10  ...       V21       V22       V23       V24  \\\n",
      "0  0.098698  0.363787  0.090794  ... -0.018307  0.277838 -0.110474  0.066928   \n",
      "1  0.085102 -0.255425 -0.166974  ... -0.225775 -0.638672  0.101288 -0.339846   \n",
      "2  0.247676 -1.514654  0.207643  ...  0.247998  0.771679  0.909412 -0.689281   \n",
      "3  0.377436 -1.387024 -0.054952  ... -0.108300  0.005274 -0.190321 -1.175575   \n",
      "4 -0.270533  0.817739  0.753074  ... -0.009431  0.798278 -0.137458  0.141267   \n",
      "\n",
      "        V25       V26       V27       V28  Amount  Class  \n",
      "0  0.128539 -0.189115  0.133558 -0.021053  149.62      0  \n",
      "1  0.167170  0.125895 -0.008983  0.014724    2.69      0  \n",
      "2 -0.327642 -0.139097 -0.055353 -0.059752  378.66      0  \n",
      "3  0.647376 -0.221929  0.062723  0.061458  123.50      0  \n",
      "4 -0.206010  0.502292  0.219422  0.215153   69.99      0  \n",
      "\n",
      "[5 rows x 30 columns]\n"
     ]
    }
   ],
   "source": [
    "df = pd.read_csv('../input/creditcardfraud/creditcard.csv')\n",
    "df.drop('Time', axis = 1, inplace = True)\n",
    "\n",
    "print(df.head())"
   ]
  },
  {
   "cell_type": "markdown",
   "id": "070d7cc0",
   "metadata": {
    "papermill": {
     "duration": 0.030003,
     "end_time": "2021-09-13T19:00:47.736673",
     "exception": false,
     "start_time": "2021-09-13T19:00:47.706670",
     "status": "completed"
    },
    "tags": []
   },
   "source": [
    "## Process data and some Exploratory Data Analysis (EDA)"
   ]
  },
  {
   "cell_type": "code",
   "execution_count": 3,
   "id": "79dfffdc",
   "metadata": {
    "execution": {
     "iopub.execute_input": "2021-09-13T19:00:47.804330Z",
     "iopub.status.busy": "2021-09-13T19:00:47.803665Z",
     "iopub.status.idle": "2021-09-13T19:00:47.867398Z",
     "shell.execute_reply": "2021-09-13T19:00:47.867916Z",
     "shell.execute_reply.started": "2021-09-13T04:58:02.803861Z"
    },
    "papermill": {
     "duration": 0.100976,
     "end_time": "2021-09-13T19:00:47.868094",
     "exception": false,
     "start_time": "2021-09-13T19:00:47.767118",
     "status": "completed"
    },
    "tags": []
   },
   "outputs": [
    {
     "name": "stdout",
     "output_type": "stream",
     "text": [
      "\u001b[1mCASE COUNT\u001b[0m\n",
      "\u001b[1m--------------------------------------\u001b[0m\n",
      "Total number of cases are 284807\u001b[0m\n",
      "Number of Non-fraud cases are 284315\u001b[0m\n",
      "Number of fraud cases are 492\u001b[0m\n",
      "Percentage of fraud cases is 0.17\u001b[0m\n",
      "\u001b[1m--------------------------------------\u001b[0m\n"
     ]
    }
   ],
   "source": [
    "#Percentage of fraud cases\n",
    "\n",
    "cases = len(df)\n",
    "nonfraud_count = len(df[df.Class == 0])\n",
    "fraud_count = len(df[df.Class == 1])\n",
    "fraud_percentage = round(fraud_count/nonfraud_count*100, 2)\n",
    "\n",
    "print(cl('CASE COUNT', attrs = ['bold']))\n",
    "print(cl('--------------------------------------', attrs = ['bold']))\n",
    "print(cl('Total number of cases are {}'.format(cases)))\n",
    "print(cl('Number of Non-fraud cases are {}'.format(nonfraud_count)))\n",
    "print(cl('Number of fraud cases are {}'.format(fraud_count)))\n",
    "print(cl('Percentage of fraud cases is {}'.format(fraud_percentage)))\n",
    "print(cl('--------------------------------------', attrs = ['bold']))"
   ]
  },
  {
   "cell_type": "code",
   "execution_count": 4,
   "id": "d71717ba",
   "metadata": {
    "execution": {
     "iopub.execute_input": "2021-09-13T19:00:47.936831Z",
     "iopub.status.busy": "2021-09-13T19:00:47.936195Z",
     "iopub.status.idle": "2021-09-13T19:00:47.991559Z",
     "shell.execute_reply": "2021-09-13T19:00:47.992056Z",
     "shell.execute_reply.started": "2021-09-13T04:58:02.875209Z"
    },
    "papermill": {
     "duration": 0.093692,
     "end_time": "2021-09-13T19:00:47.992235",
     "exception": false,
     "start_time": "2021-09-13T19:00:47.898543",
     "status": "completed"
    },
    "tags": []
   },
   "outputs": [
    {
     "name": "stdout",
     "output_type": "stream",
     "text": [
      "\u001b[1mCASE AMOUNT STATISTICS\u001b[0m\n",
      "|\u001b[0m\n",
      "\u001b[1m----------------------------------\u001b[0m\n",
      "\u001b[1mNON-FRAUD CASE AMOUNT STATS\u001b[0m\n",
      "count    284315.000000\n",
      "mean         88.291022\n",
      "std         250.105092\n",
      "min           0.000000\n",
      "25%           5.650000\n",
      "50%          22.000000\n",
      "75%          77.050000\n",
      "max       25691.160000\n",
      "Name: Amount, dtype: float64\n",
      "----------------------------------\u001b[0m\n",
      "\u001b[1mFRAUD CASE AMOUNT STATS\u001b[0m\n",
      "count     492.000000\n",
      "mean      122.211321\n",
      "std       256.683288\n",
      "min         0.000000\n",
      "25%         1.000000\n",
      "50%         9.250000\n",
      "75%       105.890000\n",
      "max      2125.870000\n",
      "Name: Amount, dtype: float64\n",
      "----------------------------------\u001b[0m\n"
     ]
    }
   ],
   "source": [
    "#Statistical view of both fraud and non-fraud transaction amount data\n",
    "\n",
    "nonfraud_cases = df[df.Class == 0]\n",
    "fraud_cases = df[df.Class == 1]\n",
    "\n",
    "print(cl('CASE AMOUNT STATISTICS', attrs = ['bold']))\n",
    "print(cl('|'))\n",
    "print(cl('----------------------------------', attrs = ['bold']))\n",
    "print(cl('NON-FRAUD CASE AMOUNT STATS', attrs = ['bold']))\n",
    "print(nonfraud_cases.Amount.describe())\n",
    "print(cl('----------------------------------'))\n",
    "print(cl('FRAUD CASE AMOUNT STATS', attrs = ['bold']))\n",
    "print(fraud_cases.Amount.describe())\n",
    "print(cl('----------------------------------'))"
   ]
  },
  {
   "cell_type": "code",
   "execution_count": 5,
   "id": "b7a6edb1",
   "metadata": {
    "execution": {
     "iopub.execute_input": "2021-09-13T19:00:48.057422Z",
     "iopub.status.busy": "2021-09-13T19:00:48.056726Z",
     "iopub.status.idle": "2021-09-13T19:00:48.067912Z",
     "shell.execute_reply": "2021-09-13T19:00:48.068337Z",
     "shell.execute_reply.started": "2021-09-13T04:58:02.945572Z"
    },
    "papermill": {
     "duration": 0.045635,
     "end_time": "2021-09-13T19:00:48.068587",
     "exception": false,
     "start_time": "2021-09-13T19:00:48.022952",
     "status": "completed"
    },
    "tags": []
   },
   "outputs": [
    {
     "name": "stdout",
     "output_type": "stream",
     "text": [
      "\u001b[1m0    0.244964\n",
      "1   -0.342475\n",
      "2    1.160686\n",
      "3    0.140534\n",
      "4   -0.073403\n",
      "5   -0.338556\n",
      "6   -0.333279\n",
      "7   -0.190107\n",
      "8    0.019392\n",
      "9   -0.338516\n",
      "Name: Amount, dtype: float64\u001b[0m\n"
     ]
    }
   ],
   "source": [
    "#Normalize the Amount variable\n",
    "\n",
    "sc = StandardScaler()\n",
    "amount = df['Amount'].values\n",
    "\n",
    "df['Amount'] = sc.fit_transform(amount.reshape(-1, 1))\n",
    "\n",
    "print(cl(df['Amount'].head(10), attrs = ['bold']))"
   ]
  },
  {
   "cell_type": "markdown",
   "id": "8617e398",
   "metadata": {
    "papermill": {
     "duration": 0.020403,
     "end_time": "2021-09-13T19:00:48.110473",
     "exception": false,
     "start_time": "2021-09-13T19:00:48.090070",
     "status": "completed"
    },
    "tags": []
   },
   "source": [
    "## Split the dataset into train and test data"
   ]
  },
  {
   "cell_type": "code",
   "execution_count": 6,
   "id": "967ffd2e",
   "metadata": {
    "execution": {
     "iopub.execute_input": "2021-09-13T19:00:48.155348Z",
     "iopub.status.busy": "2021-09-13T19:00:48.154749Z",
     "iopub.status.idle": "2021-09-13T19:00:48.301057Z",
     "shell.execute_reply": "2021-09-13T19:00:48.301473Z",
     "shell.execute_reply.started": "2021-09-13T05:59:59.21017Z"
    },
    "papermill": {
     "duration": 0.170345,
     "end_time": "2021-09-13T19:00:48.301607",
     "exception": false,
     "start_time": "2021-09-13T19:00:48.131262",
     "status": "completed"
    },
    "tags": []
   },
   "outputs": [
    {
     "name": "stdout",
     "output_type": "stream",
     "text": [
      "\u001b[1mX_train samples : \u001b[0m [[-1.11504743  1.03558276  0.80071244 -1.06039825  0.03262117  0.85342216\n",
      "  -0.61424348 -3.23116112  1.53994798 -0.81690879 -1.30559201  0.1081772\n",
      "  -0.85960958 -0.07193421  0.90665563 -1.72092961  0.79785322 -0.0067594\n",
      "   1.95677806 -0.64489556  3.02038533 -0.53961798  0.03315649 -0.77494577\n",
      "   0.10586781 -0.43085348  0.22973694 -0.0705913  -0.30145418]]\n",
      "\u001b[1mX_test samples : \u001b[0m [[-0.32333357  1.05745525 -0.04834115 -0.60720431  1.25982115 -0.09176072\n",
      "   1.1591015  -0.12433461 -0.17463954 -1.64440065 -1.11886302  0.20264731\n",
      "   1.14596495 -1.80235956 -0.24717793 -0.06094535  0.84660574  0.37945439\n",
      "   0.84726224  0.18640942 -0.20709827 -0.43389027 -0.26161328 -0.04665061\n",
      "   0.2115123   0.00829721  0.10849443  0.16113917 -0.19330595]]\n",
      "\u001b[1my_train samples : \u001b[0m [0 0 0 0 0 0 0 0 0 0 0 0 0 0 0 0 0 0 0 0]\n",
      "\u001b[1my_test samples : \u001b[0m [0 0 0 0 0 0 0 0 0 0 0 0 0 0 0 0 0 0 0 0]\n"
     ]
    }
   ],
   "source": [
    "X = df.drop('Class', axis = 1).values\n",
    "y = df['Class'].values\n",
    "\n",
    "X_train, X_test, y_train, y_test = train_test_split(X, y, test_size = 0.2, random_state = 0)\n",
    "\n",
    "print(cl('X_train samples : ', attrs = ['bold']), X_train[:1])\n",
    "print(cl('X_test samples : ', attrs = ['bold']), X_test[0:1])\n",
    "print(cl('y_train samples : ', attrs = ['bold']), y_train[0:20])\n",
    "print(cl('y_test samples : ', attrs = ['bold']), y_test[0:20])"
   ]
  },
  {
   "cell_type": "markdown",
   "id": "1e7a547a",
   "metadata": {
    "papermill": {
     "duration": 0.020942,
     "end_time": "2021-09-13T19:00:48.343714",
     "exception": false,
     "start_time": "2021-09-13T19:00:48.322772",
     "status": "completed"
    },
    "tags": []
   },
   "source": [
    "## Testing the model using six classification models"
   ]
  },
  {
   "cell_type": "code",
   "execution_count": 7,
   "id": "b884d2f0",
   "metadata": {
    "execution": {
     "iopub.execute_input": "2021-09-13T19:00:48.389370Z",
     "iopub.status.busy": "2021-09-13T19:00:48.388873Z",
     "iopub.status.idle": "2021-09-13T19:00:55.321659Z",
     "shell.execute_reply": "2021-09-13T19:00:55.321219Z",
     "shell.execute_reply.started": "2021-09-13T04:58:03.134882Z"
    },
    "papermill": {
     "duration": 6.956608,
     "end_time": "2021-09-13T19:00:55.321782",
     "exception": false,
     "start_time": "2021-09-13T19:00:48.365174",
     "status": "completed"
    },
    "tags": []
   },
   "outputs": [],
   "source": [
    "#Decision Tree\n",
    "\n",
    "tree_model = DecisionTreeClassifier(max_depth = 4, criterion = 'entropy')\n",
    "tree_model.fit(X_train, y_train)\n",
    "tree_yhat = tree_model.predict(X_test)"
   ]
  },
  {
   "cell_type": "code",
   "execution_count": 8,
   "id": "1972369b",
   "metadata": {
    "execution": {
     "iopub.execute_input": "2021-09-13T19:00:55.370029Z",
     "iopub.status.busy": "2021-09-13T19:00:55.369140Z",
     "iopub.status.idle": "2021-09-13T19:03:54.512103Z",
     "shell.execute_reply": "2021-09-13T19:03:54.511144Z",
     "shell.execute_reply.started": "2021-09-13T04:58:10.915188Z"
    },
    "papermill": {
     "duration": 179.168996,
     "end_time": "2021-09-13T19:03:54.512266",
     "exception": false,
     "start_time": "2021-09-13T19:00:55.343270",
     "status": "completed"
    },
    "tags": []
   },
   "outputs": [],
   "source": [
    "#K-Nearest Neighbors\n",
    "\n",
    "n = 5\n",
    "\n",
    "knn = KNeighborsClassifier(n_neighbors = n)\n",
    "knn.fit(X_train, y_train)\n",
    "knn_yhat = knn.predict(X_test)"
   ]
  },
  {
   "cell_type": "code",
   "execution_count": 9,
   "id": "9ac81408",
   "metadata": {
    "execution": {
     "iopub.execute_input": "2021-09-13T19:03:54.560338Z",
     "iopub.status.busy": "2021-09-13T19:03:54.559547Z",
     "iopub.status.idle": "2021-09-13T19:03:57.052993Z",
     "shell.execute_reply": "2021-09-13T19:03:57.053479Z",
     "shell.execute_reply.started": "2021-09-13T05:01:07.792489Z"
    },
    "papermill": {
     "duration": 2.519738,
     "end_time": "2021-09-13T19:03:57.053655",
     "exception": false,
     "start_time": "2021-09-13T19:03:54.533917",
     "status": "completed"
    },
    "tags": []
   },
   "outputs": [],
   "source": [
    "#Logistic Regression\n",
    "\n",
    "lr = LogisticRegression()\n",
    "lr.fit(X_train, y_train)\n",
    "lr_yhat = lr.predict(X_test)"
   ]
  },
  {
   "cell_type": "code",
   "execution_count": 10,
   "id": "f792a1a3",
   "metadata": {
    "execution": {
     "iopub.execute_input": "2021-09-13T19:03:57.127807Z",
     "iopub.status.busy": "2021-09-13T19:03:57.127241Z",
     "iopub.status.idle": "2021-09-13T19:11:57.356659Z",
     "shell.execute_reply": "2021-09-13T19:11:57.357034Z",
     "shell.execute_reply.started": "2021-09-13T05:01:11.085409Z"
    },
    "papermill": {
     "duration": 480.275066,
     "end_time": "2021-09-13T19:11:57.357200",
     "exception": false,
     "start_time": "2021-09-13T19:03:57.082134",
     "status": "completed"
    },
    "tags": []
   },
   "outputs": [],
   "source": [
    "#SVM \n",
    "\n",
    "svm = SVC()\n",
    "svm.fit(X_train, y_train)\n",
    "svm_yhat = svm.predict(X_test)"
   ]
  },
  {
   "cell_type": "code",
   "execution_count": 11,
   "id": "35a61c41",
   "metadata": {
    "execution": {
     "iopub.execute_input": "2021-09-13T19:11:57.404538Z",
     "iopub.status.busy": "2021-09-13T19:11:57.404042Z",
     "iopub.status.idle": "2021-09-13T19:13:06.446740Z",
     "shell.execute_reply": "2021-09-13T19:13:06.447255Z",
     "shell.execute_reply.started": "2021-09-13T05:06:56.864025Z"
    },
    "papermill": {
     "duration": 69.06873,
     "end_time": "2021-09-13T19:13:06.447399",
     "exception": false,
     "start_time": "2021-09-13T19:11:57.378669",
     "status": "completed"
    },
    "tags": []
   },
   "outputs": [],
   "source": [
    "#Random Forest Tree\n",
    "\n",
    "rf = RandomForestClassifier(max_depth = 4)\n",
    "rf.fit(X_train, y_train)\n",
    "rf_yhat = rf.predict(X_test)"
   ]
  },
  {
   "cell_type": "code",
   "execution_count": 12,
   "id": "91647f84",
   "metadata": {
    "execution": {
     "iopub.execute_input": "2021-09-13T19:13:06.493383Z",
     "iopub.status.busy": "2021-09-13T19:13:06.492698Z",
     "iopub.status.idle": "2021-09-13T19:13:43.249622Z",
     "shell.execute_reply": "2021-09-13T19:13:43.250106Z",
     "shell.execute_reply.started": "2021-09-13T05:08:04.432214Z"
    },
    "papermill": {
     "duration": 36.781152,
     "end_time": "2021-09-13T19:13:43.250292",
     "exception": false,
     "start_time": "2021-09-13T19:13:06.469140",
     "status": "completed"
    },
    "tags": []
   },
   "outputs": [
    {
     "name": "stdout",
     "output_type": "stream",
     "text": [
      "[19:13:07] WARNING: ../src/learner.cc:1095: Starting in XGBoost 1.3.0, the default evaluation metric used with the objective 'binary:logistic' was changed from 'error' to 'logloss'. Explicitly set eval_metric if you'd like to restore the old behavior.\n"
     ]
    }
   ],
   "source": [
    "#XGBoost\n",
    "\n",
    "xgb = XGBClassifier(max_depth = 4, use_label_encoder=False)\n",
    "xgb.fit(X_train, y_train)\n",
    "xgb_yhat = xgb.predict(X_test)"
   ]
  },
  {
   "cell_type": "markdown",
   "id": "90b43a74",
   "metadata": {
    "papermill": {
     "duration": 0.02143,
     "end_time": "2021-09-13T19:13:43.294657",
     "exception": false,
     "start_time": "2021-09-13T19:13:43.273227",
     "status": "completed"
    },
    "tags": []
   },
   "source": [
    "## Models evaluation"
   ]
  },
  {
   "cell_type": "code",
   "execution_count": 13,
   "id": "1e31263d",
   "metadata": {
    "execution": {
     "iopub.execute_input": "2021-09-13T19:13:43.348101Z",
     "iopub.status.busy": "2021-09-13T19:13:43.347564Z",
     "iopub.status.idle": "2021-09-13T19:13:43.372574Z",
     "shell.execute_reply": "2021-09-13T19:13:43.372051Z",
     "shell.execute_reply.started": "2021-09-13T05:10:06.753815Z"
    },
    "papermill": {
     "duration": 0.056605,
     "end_time": "2021-09-13T19:13:43.372687",
     "exception": false,
     "start_time": "2021-09-13T19:13:43.316082",
     "status": "completed"
    },
    "tags": []
   },
   "outputs": [
    {
     "name": "stdout",
     "output_type": "stream",
     "text": [
      "\u001b[1mACCURACY SCORE\u001b[0m\n",
      "\u001b[1m------------------------------------------------------------------------\u001b[0m\n",
      "Accuracy score of the Decision Tree model is 0.9993679997191109\u001b[0m\n",
      "\u001b[1m------------------------------------------------------------------------\u001b[0m\n",
      "\u001b[32mAccuracy score of the KNN model is 0.9995259997893332\u001b[0m\n",
      "\u001b[1m------------------------------------------------------------------------\u001b[0m\n",
      "\u001b[31mAccuracy score of the Logistic Regression model is 0.9991924440855307\u001b[0m\n",
      "\u001b[1m------------------------------------------------------------------------\u001b[0m\n",
      "Accuracy score of the SVM model is 0.9993153330290369\u001b[0m\n",
      "\u001b[1m------------------------------------------------------------------------\u001b[0m\n",
      "Accuracy score of the Random Forest Tree model is 0.9992977774656788\u001b[0m\n",
      "\u001b[1m------------------------------------------------------------------------\u001b[0m\n",
      "Accuracy score of the XGBoost model is 0.9994908886626171\u001b[0m\n",
      "\u001b[1m------------------------------------------------------------------------\u001b[0m\n"
     ]
    }
   ],
   "source": [
    "#Accuracy score\n",
    "\n",
    "print(cl('ACCURACY SCORE', attrs = ['bold']))\n",
    "print(cl('------------------------------------------------------------------------', attrs = ['bold']))\n",
    "print(cl('Accuracy score of the Decision Tree model is {}'.format(accuracy_score(y_test, tree_yhat))))\n",
    "print(cl('------------------------------------------------------------------------', attrs = ['bold']))\n",
    "print(cl('Accuracy score of the KNN model is {}'.format(accuracy_score(y_test, knn_yhat)), color = 'green'))\n",
    "print(cl('------------------------------------------------------------------------', attrs = ['bold']))\n",
    "print(cl('Accuracy score of the Logistic Regression model is {}'.format(accuracy_score(y_test, lr_yhat)), color = 'red'))\n",
    "print(cl('------------------------------------------------------------------------', attrs = ['bold']))\n",
    "print(cl('Accuracy score of the SVM model is {}'.format(accuracy_score(y_test, svm_yhat))))\n",
    "print(cl('------------------------------------------------------------------------', attrs = ['bold']))\n",
    "print(cl('Accuracy score of the Random Forest Tree model is {}'.format(accuracy_score(y_test, rf_yhat))))\n",
    "print(cl('------------------------------------------------------------------------', attrs = ['bold']))\n",
    "print(cl('Accuracy score of the XGBoost model is {}'.format(accuracy_score(y_test, xgb_yhat))))\n",
    "print(cl('------------------------------------------------------------------------', attrs = ['bold']))"
   ]
  },
  {
   "cell_type": "code",
   "execution_count": 14,
   "id": "c99f66e4",
   "metadata": {
    "execution": {
     "iopub.execute_input": "2021-09-13T19:13:43.426830Z",
     "iopub.status.busy": "2021-09-13T19:13:43.426319Z",
     "iopub.status.idle": "2021-09-13T19:13:43.515204Z",
     "shell.execute_reply": "2021-09-13T19:13:43.514663Z",
     "shell.execute_reply.started": "2021-09-13T05:10:36.821632Z"
    },
    "papermill": {
     "duration": 0.120505,
     "end_time": "2021-09-13T19:13:43.515323",
     "exception": false,
     "start_time": "2021-09-13T19:13:43.394818",
     "status": "completed"
    },
    "tags": []
   },
   "outputs": [
    {
     "name": "stdout",
     "output_type": "stream",
     "text": [
      "\u001b[1mF1 SCORE\u001b[0m\n",
      "\u001b[1m------------------------------------------------------------------------\u001b[0m\n",
      "F1 score of the Decision Tree model is 0.8105263157894738\u001b[0m\n",
      "\u001b[1m------------------------------------------------------------------------\u001b[0m\n",
      "\u001b[32mF1 score of the KNN model is 0.8571428571428572\u001b[0m\n",
      "\u001b[1m------------------------------------------------------------------------\u001b[0m\n",
      "\u001b[31mF1 score of the Logistic Regression model is 0.7356321839080459\u001b[0m\n",
      "\u001b[1m------------------------------------------------------------------------\u001b[0m\n",
      "F1 score of the SVM model is 0.7771428571428572\u001b[0m\n",
      "\u001b[1m------------------------------------------------------------------------\u001b[0m\n",
      "F1 score of the Random Forest Tree model is 0.7727272727272727\u001b[0m\n",
      "\u001b[1m------------------------------------------------------------------------\u001b[0m\n",
      "F1 score of the XGBoost model is 0.8449197860962566\u001b[0m\n",
      "\u001b[1m---------------------------\u001b[0m\n"
     ]
    }
   ],
   "source": [
    "#F1 score\n",
    "\n",
    "print(cl('F1 SCORE', attrs = ['bold']))\n",
    "print(cl('------------------------------------------------------------------------', attrs = ['bold']))\n",
    "print(cl('F1 score of the Decision Tree model is {}'.format(f1_score(y_test, tree_yhat))))\n",
    "print(cl('------------------------------------------------------------------------', attrs = ['bold']))\n",
    "print(cl('F1 score of the KNN model is {}'.format(f1_score(y_test, knn_yhat)), color = 'green'))\n",
    "print(cl('------------------------------------------------------------------------', attrs = ['bold']))\n",
    "print(cl('F1 score of the Logistic Regression model is {}'.format(f1_score(y_test, lr_yhat)), color = 'red'))\n",
    "print(cl('------------------------------------------------------------------------', attrs = ['bold']))\n",
    "print(cl('F1 score of the SVM model is {}'.format(f1_score(y_test, svm_yhat))))\n",
    "print(cl('------------------------------------------------------------------------', attrs = ['bold']))\n",
    "print(cl('F1 score of the Random Forest Tree model is {}'.format(f1_score(y_test, rf_yhat))))\n",
    "print(cl('------------------------------------------------------------------------', attrs = ['bold']))\n",
    "print(cl('F1 score of the XGBoost model is {}'.format(f1_score(y_test, xgb_yhat))))\n",
    "print(cl('---------------------------', attrs = ['bold']))"
   ]
  },
  {
   "cell_type": "code",
   "execution_count": 15,
   "id": "00d8896e",
   "metadata": {
    "execution": {
     "iopub.execute_input": "2021-09-13T19:13:43.573432Z",
     "iopub.status.busy": "2021-09-13T19:13:43.568334Z",
     "iopub.status.idle": "2021-09-13T19:13:44.054361Z",
     "shell.execute_reply": "2021-09-13T19:13:44.054732Z",
     "shell.execute_reply.started": "2021-09-13T05:10:52.435975Z"
    },
    "papermill": {
     "duration": 0.517241,
     "end_time": "2021-09-13T19:13:44.054873",
     "exception": false,
     "start_time": "2021-09-13T19:13:43.537632",
     "status": "completed"
    },
    "tags": []
   },
   "outputs": [],
   "source": [
    "#Confusion Matrix\n",
    "\n",
    "def plot_confusion_matrix(cm, classes, title, normalize = False, cmap = plt.cm.Blues):\n",
    "    title = 'Confusion Matrix of {}'.format(title)\n",
    "    if normalize:\n",
    "        cm = cm.astype(float) / cm.sum(axis=1)[:, np.newaxis]\n",
    "\n",
    "    plt.imshow(cm, interpolation = 'nearest', cmap = cmap)\n",
    "    plt.title(title)\n",
    "    plt.colorbar()\n",
    "    tick_marks = np.arange(len(classes))\n",
    "    plt.xticks(tick_marks, classes, rotation = 45)\n",
    "    plt.yticks(tick_marks, classes)\n",
    "\n",
    "    fmt = '.2f' if normalize else 'd'\n",
    "    thresh = cm.max() / 2.\n",
    "    for i, j in itertools.product(range(cm.shape[0]), range(cm.shape[1])):\n",
    "        plt.text(j, i, format(cm[i, j], fmt),\n",
    "                 horizontalalignment = 'center',\n",
    "                 color = 'white' if cm[i, j] > thresh else 'black')\n",
    "\n",
    "    plt.tight_layout()\n",
    "    plt.ylabel('True label')\n",
    "    plt.xlabel('Predicted label')\n",
    "\n",
    "#Compute confusion matrix for the models\n",
    "\n",
    "tree_matrix = confusion_matrix(y_test, tree_yhat, labels = [0, 1])\n",
    "knn_matrix = confusion_matrix(y_test, knn_yhat, labels = [0, 1])\n",
    "lr_matrix = confusion_matrix(y_test, lr_yhat, labels = [0, 1])\n",
    "svm_matrix = confusion_matrix(y_test, svm_yhat, labels = [0, 1])\n",
    "rf_matrix = confusion_matrix(y_test, rf_yhat, labels = [0, 1])\n",
    "xgb_matrix = confusion_matrix(y_test, xgb_yhat, labels = [0, 1])\n",
    "\n",
    "#Plot the confusion matrix\n",
    "\n",
    "plt.rcParams['figure.figsize'] = (6, 6)"
   ]
  },
  {
   "cell_type": "code",
   "execution_count": 16,
   "id": "269318c7",
   "metadata": {
    "execution": {
     "iopub.execute_input": "2021-09-13T19:13:44.115287Z",
     "iopub.status.busy": "2021-09-13T19:13:44.114767Z",
     "iopub.status.idle": "2021-09-13T19:13:44.379457Z",
     "shell.execute_reply": "2021-09-13T19:13:44.380030Z",
     "shell.execute_reply.started": "2021-09-13T05:10:56.255192Z"
    },
    "papermill": {
     "duration": 0.302929,
     "end_time": "2021-09-13T19:13:44.380272",
     "exception": false,
     "start_time": "2021-09-13T19:13:44.077343",
     "status": "completed"
    },
    "tags": []
   },
   "outputs": [
    {
     "data": {
      "image/png": "[encoded data removed]",
      "text/plain": [
       "<Figure size 432x432 with 2 Axes>"
      ]
     },
     "metadata": {
      "needs_background": "light"
     },
     "output_type": "display_data"
    }
   ],
   "source": [
    "#Confusion matrix for Decision tree\n",
    "\n",
    "tree_cm_plot = plot_confusion_matrix(tree_matrix, \n",
    "classes = ['Non-Default(0)','Default(1)'], \n",
    "normalize = False, title = 'Decision Tree')\n",
    "\n",
    "plt.savefig('tree_cm_plot.png')\n",
    "plt.show()"
   ]
  },
  {
   "cell_type": "code",
   "execution_count": 17,
   "id": "aea49542",
   "metadata": {
    "execution": {
     "iopub.execute_input": "2021-09-13T19:13:44.435108Z",
     "iopub.status.busy": "2021-09-13T19:13:44.434418Z",
     "iopub.status.idle": "2021-09-13T19:13:44.673200Z",
     "shell.execute_reply": "2021-09-13T19:13:44.673566Z",
     "shell.execute_reply.started": "2021-09-13T05:10:59.292818Z"
    },
    "papermill": {
     "duration": 0.264619,
     "end_time": "2021-09-13T19:13:44.673701",
     "exception": false,
     "start_time": "2021-09-13T19:13:44.409082",
     "status": "completed"
    },
    "tags": []
   },
   "outputs": [
    {
     "data": {
      "image/png": "[encoded data removed]",
      "text/plain": [
       "<Figure size 432x432 with 2 Axes>"
      ]
     },
     "metadata": {
      "needs_background": "light"
     },
     "output_type": "display_data"
    }
   ],
   "source": [
    "#Confusion matrix for K-Nearest Neighbors\n",
    "\n",
    "knn_cm_plot = plot_confusion_matrix(knn_matrix, \n",
    "classes = ['Non-Default(0)','Default(1)'], \n",
    "normalize = False, title = 'K-Nearest Neighbors')\n",
    "\n",
    "plt.savefig('knn_cm_plot.png')\n",
    "plt.show()"
   ]
  },
  {
   "cell_type": "code",
   "execution_count": 18,
   "id": "6ca564af",
   "metadata": {
    "execution": {
     "iopub.execute_input": "2021-09-13T19:13:44.723172Z",
     "iopub.status.busy": "2021-09-13T19:13:44.722516Z",
     "iopub.status.idle": "2021-09-13T19:13:44.959983Z",
     "shell.execute_reply": "2021-09-13T19:13:44.960360Z",
     "shell.execute_reply.started": "2021-09-13T05:11:03.981495Z"
    },
    "papermill": {
     "duration": 0.263509,
     "end_time": "2021-09-13T19:13:44.960503",
     "exception": false,
     "start_time": "2021-09-13T19:13:44.696994",
     "status": "completed"
    },
    "tags": []
   },
   "outputs": [
    {
     "data": {
      "image/png": "[encoded data removed]",
      "text/plain": [
       "<Figure size 432x432 with 2 Axes>"
      ]
     },
     "metadata": {
      "needs_background": "light"
     },
     "output_type": "display_data"
    }
   ],
   "source": [
    "#Confusion matrix for Logistic regression\n",
    "\n",
    "lr_cm_plot = plot_confusion_matrix(lr_matrix, \n",
    "classes = ['Non-Default(0)','Default(1)'], \n",
    "normalize = False, title = 'Logistic Regression')\n",
    "\n",
    "plt.savefig('lr_cm_plot.png')\n",
    "plt.show()"
   ]
  },
  {
   "cell_type": "code",
   "execution_count": 19,
   "id": "96a3b8af",
   "metadata": {
    "execution": {
     "iopub.execute_input": "2021-09-13T19:13:45.012773Z",
     "iopub.status.busy": "2021-09-13T19:13:45.012085Z",
     "iopub.status.idle": "2021-09-13T19:13:45.356167Z",
     "shell.execute_reply": "2021-09-13T19:13:45.356530Z",
     "shell.execute_reply.started": "2021-09-13T05:11:09.26882Z"
    },
    "papermill": {
     "duration": 0.371729,
     "end_time": "2021-09-13T19:13:45.356669",
     "exception": false,
     "start_time": "2021-09-13T19:13:44.984940",
     "status": "completed"
    },
    "tags": []
   },
   "outputs": [
    {
     "data": {
      "image/png": "[encoded data removed]",
      "text/plain": [
       "<Figure size 432x432 with 2 Axes>"
      ]
     },
     "metadata": {
      "needs_background": "light"
     },
     "output_type": "display_data"
    }
   ],
   "source": [
    "#Confusion matrix for Support Vector Machine\n",
    "\n",
    "svm_cm_plot = plot_confusion_matrix(svm_matrix, \n",
    "classes = ['Non-Default(0)','Default(1)'], \n",
    "normalize = False, title = 'SVM')\n",
    "\n",
    "plt.savefig('svm_cm_plot.png')\n",
    "plt.show()"
   ]
  },
  {
   "cell_type": "code",
   "execution_count": 20,
   "id": "5c9f08a3",
   "metadata": {
    "execution": {
     "iopub.execute_input": "2021-09-13T19:13:45.424240Z",
     "iopub.status.busy": "2021-09-13T19:13:45.422330Z",
     "iopub.status.idle": "2021-09-13T19:13:45.652124Z",
     "shell.execute_reply": "2021-09-13T19:13:45.652526Z",
     "shell.execute_reply.started": "2021-09-13T05:11:12.240808Z"
    },
    "papermill": {
     "duration": 0.271146,
     "end_time": "2021-09-13T19:13:45.652688",
     "exception": false,
     "start_time": "2021-09-13T19:13:45.381542",
     "status": "completed"
    },
    "tags": []
   },
   "outputs": [
    {
     "data": {
      "image/png": "[encoded data removed]",
      "text/plain": [
       "<Figure size 432x432 with 2 Axes>"
      ]
     },
     "metadata": {
      "needs_background": "light"
     },
     "output_type": "display_data"
    }
   ],
   "source": [
    "#Confusion matrix for Random forest tree\n",
    "\n",
    "rf_cm_plot = plot_confusion_matrix(rf_matrix, \n",
    "classes = ['Non-Default(0)','Default(1)'], \n",
    "normalize = False, title = 'Random Forest Tree')\n",
    "\n",
    "plt.savefig('rf_cm_plot.png')\n",
    "plt.show()"
   ]
  },
  {
   "cell_type": "code",
   "execution_count": 21,
   "id": "b654079f",
   "metadata": {
    "execution": {
     "iopub.execute_input": "2021-09-13T19:13:45.726448Z",
     "iopub.status.busy": "2021-09-13T19:13:45.725713Z",
     "iopub.status.idle": "2021-09-13T19:13:45.953607Z",
     "shell.execute_reply": "2021-09-13T19:13:45.952976Z",
     "shell.execute_reply.started": "2021-09-13T05:11:15.412936Z"
    },
    "papermill": {
     "duration": 0.274744,
     "end_time": "2021-09-13T19:13:45.953730",
     "exception": false,
     "start_time": "2021-09-13T19:13:45.678986",
     "status": "completed"
    },
    "tags": []
   },
   "outputs": [
    {
     "data": {
      "image/png": "[encoded data removed]",
      "text/plain": [
       "<Figure size 432x432 with 2 Axes>"
      ]
     },
     "metadata": {
      "needs_background": "light"
     },
     "output_type": "display_data"
    }
   ],
   "source": [
    "#Confusion matrix for XGBoost\n",
    "\n",
    "xgb_cm_plot = plot_confusion_matrix(xgb_matrix, \n",
    "classes = ['Non-Default(0)','Default(1)'], \n",
    "normalize = False, title = 'XGBoost')\n",
    "\n",
    "plt.savefig('xgb_cm_plot.png')\n",
    "plt.show()"
   ]
  },
  {
   "cell_type": "markdown",
   "id": "f17f618f",
   "metadata": {
    "papermill": {
     "duration": 0.02762,
     "end_time": "2021-09-13T19:13:46.008559",
     "exception": false,
     "start_time": "2021-09-13T19:13:45.980939",
     "status": "completed"
    },
    "tags": []
   },
   "source": [
    "## Test model with new transactions"
   ]
  },
  {
   "cell_type": "code",
   "execution_count": 22,
   "id": "0b8013e0",
   "metadata": {
    "execution": {
     "iopub.execute_input": "2021-09-13T19:13:46.068801Z",
     "iopub.status.busy": "2021-09-13T19:13:46.068128Z",
     "iopub.status.idle": "2021-09-13T19:13:46.104173Z",
     "shell.execute_reply": "2021-09-13T19:13:46.103504Z",
     "shell.execute_reply.started": "2021-09-13T06:14:24.770511Z"
    },
    "papermill": {
     "duration": 0.068412,
     "end_time": "2021-09-13T19:13:46.104319",
     "exception": false,
     "start_time": "2021-09-13T19:13:46.035907",
     "status": "completed"
    },
    "tags": []
   },
   "outputs": [
    {
     "name": "stdout",
     "output_type": "stream",
     "text": [
      "[0]\n"
     ]
    }
   ],
   "source": [
    "trans = [[0.32333357, 1.05745525, 1.04834115, 0.60720431, 1.25982115, 1.09176072,\n",
    "   1.1591015, 1.12433461, 1.17463954, 1.64440065, 0.11886302, 1.20264731,\n",
    "   1.14596495, 1.80235956, 1.24717793, 1.06094535, 1.84660574, 1.37945439,\n",
    "   1.84726224, -0.18640942, 1.20709827, 0.43389027, 1.26161328, 1.04665061,\n",
    "   1.2115123, 1.00829721, 1.10849443, 1.16113917, -0.19330595]]\n",
    "\n",
    "result = knn.predict(trans)\n",
    "print(result)"
   ]
  },
  {
   "cell_type": "markdown",
   "id": "44b7191c",
   "metadata": {
    "papermill": {
     "duration": 0.039368,
     "end_time": "2021-09-13T19:13:46.183268",
     "exception": false,
     "start_time": "2021-09-13T19:13:46.143900",
     "status": "completed"
    },
    "tags": []
   },
   "source": [
    "## Save model in SAV format"
   ]
  },
  {
   "cell_type": "code",
   "execution_count": 23,
   "id": "dd33063f",
   "metadata": {
    "execution": {
     "iopub.execute_input": "2021-09-13T19:13:46.265489Z",
     "iopub.status.busy": "2021-09-13T19:13:46.264848Z",
     "iopub.status.idle": "2021-09-13T19:13:46.322274Z",
     "shell.execute_reply": "2021-09-13T19:13:46.321662Z",
     "shell.execute_reply.started": "2021-09-13T05:24:10.549024Z"
    },
    "papermill": {
     "duration": 0.1001,
     "end_time": "2021-09-13T19:13:46.322416",
     "exception": false,
     "start_time": "2021-09-13T19:13:46.222316",
     "status": "completed"
    },
    "tags": []
   },
   "outputs": [],
   "source": [
    "import pickle\n",
    "\n",
    "filename = 'credit_card_fraud_detection.sav'\n",
    "pickle.dump(knn, open(filename, 'wb'))"
   ]
  },
  {
   "cell_type": "markdown",
   "id": "2d7acb42",
   "metadata": {
    "papermill": {
     "duration": 0.038439,
     "end_time": "2021-09-13T19:13:46.400110",
     "exception": false,
     "start_time": "2021-09-13T19:13:46.361671",
     "status": "completed"
    },
    "tags": []
   },
   "source": [
    "## Load saved model and test"
   ]
  },
  {
   "cell_type": "code",
   "execution_count": 24,
   "id": "58414545",
   "metadata": {
    "execution": {
     "iopub.execute_input": "2021-09-13T19:13:46.483713Z",
     "iopub.status.busy": "2021-09-13T19:13:46.483050Z",
     "iopub.status.idle": "2021-09-13T19:13:46.530578Z",
     "shell.execute_reply": "2021-09-13T19:13:46.531074Z",
     "shell.execute_reply.started": "2021-09-13T05:56:26.034519Z"
    },
    "papermill": {
     "duration": 0.091984,
     "end_time": "2021-09-13T19:13:46.531265",
     "exception": false,
     "start_time": "2021-09-13T19:13:46.439281",
     "status": "completed"
    },
    "tags": []
   },
   "outputs": [
    {
     "name": "stdout",
     "output_type": "stream",
     "text": [
      "[0]\n"
     ]
    }
   ],
   "source": [
    "filename = './credit_card_fraud_detection.sav'\n",
    "loaded_model = pickle.load(open(filename, 'rb'))\n",
    "\n",
    "trans = [[-0.32333357, 1.05745525, -0.04834115, -0.60720431, 1.25982115, -0.09176072,\n",
    "   1.1591015, -0.12433461, -0.17463954, -1.64440065, -1.11886302, 0.20264731,\n",
    "   1.14596495, -1.80235956, -0.24717793, -0.06094535, 0.84660574, 0.37945439,\n",
    "   0.84726224, 0.18640942, -0.20709827, -0.43389027, -0.26161328, -0.04665061,\n",
    "   0.2115123, 0.00829721, 0.10849443, 0.16113917, -0.19330595]]\n",
    "\n",
    "result = loaded_model.predict(trans)\n",
    "print(result)"
   ]
  }
 ],
 "metadata": {
  "kernelspec": {
   "display_name": "Python 3",
   "language": "python",
   "name": "python3"
  },
  "language_info": {
   "codemirror_mode": {
    "name": "ipython",
    "version": 3
   },
   "file_extension": ".py",
   "mimetype": "text/x-python",
   "name": "python",
   "nbconvert_exporter": "python",
   "pygments_lexer": "ipython3",
   "version": "3.7.10"
  },
  "papermill": {
   "default_parameters": {},
   "duration": 793.094385,
   "end_time": "2021-09-13T19:13:48.155190",
   "environment_variables": {},
   "exception": null,
   "input_path": "__notebook__.ipynb",
   "output_path": "__notebook__.ipynb",
   "parameters": {},
   "start_time": "2021-09-13T19:00:35.060805",
   "version": "2.3.3"
  }
 },
 "nbformat": 4,
 "nbformat_minor": 5
}
